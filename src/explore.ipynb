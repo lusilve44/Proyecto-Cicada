{
 "cells": [
  {
   "cell_type": "code",
   "execution_count": 1,
   "metadata": {},
   "outputs": [
    {
     "name": "stdout",
     "output_type": "stream",
     "text": [
      "Requirement already satisfied: pip in /home/gitpod/.pyenv/versions/3.8.13/lib/python3.8/site-packages (22.2.2)\n",
      "Requirement already satisfied: pandas==1.4.2 in /home/gitpod/.pyenv/versions/3.8.13/lib/python3.8/site-packages (from -r ../requirements.txt (line 1)) (1.4.2)\n",
      "Requirement already satisfied: python-dotenv==0.20.0 in /home/gitpod/.pyenv/versions/3.8.13/lib/python3.8/site-packages (from -r ../requirements.txt (line 2)) (0.20.0)\n",
      "Requirement already satisfied: requests==2.27.1 in /home/gitpod/.pyenv/versions/3.8.13/lib/python3.8/site-packages (from -r ../requirements.txt (line 3)) (2.27.1)\n",
      "Requirement already satisfied: numpy>=1.18.5 in /home/gitpod/.pyenv/versions/3.8.13/lib/python3.8/site-packages (from -r ../requirements.txt (line 4)) (1.23.1)\n",
      "Requirement already satisfied: matplotlib>=3.2.2 in /home/gitpod/.pyenv/versions/3.8.13/lib/python3.8/site-packages (from -r ../requirements.txt (line 5)) (3.5.2)\n",
      "Requirement already satisfied: sklearn in /home/gitpod/.pyenv/versions/3.8.13/lib/python3.8/site-packages (from -r ../requirements.txt (line 6)) (0.0)\n",
      "Requirement already satisfied: seaborn in /home/gitpod/.pyenv/versions/3.8.13/lib/python3.8/site-packages (from -r ../requirements.txt (line 7)) (0.11.2)\n",
      "Requirement already satisfied: pytz>=2020.1 in /home/gitpod/.pyenv/versions/3.8.13/lib/python3.8/site-packages (from pandas==1.4.2->-r ../requirements.txt (line 1)) (2022.1)\n",
      "Requirement already satisfied: python-dateutil>=2.8.1 in /home/gitpod/.pyenv/versions/3.8.13/lib/python3.8/site-packages (from pandas==1.4.2->-r ../requirements.txt (line 1)) (2.8.2)\n",
      "Requirement already satisfied: idna<4,>=2.5 in /home/gitpod/.pyenv/versions/3.8.13/lib/python3.8/site-packages (from requests==2.27.1->-r ../requirements.txt (line 3)) (3.3)\n",
      "Requirement already satisfied: charset-normalizer~=2.0.0 in /home/gitpod/.pyenv/versions/3.8.13/lib/python3.8/site-packages (from requests==2.27.1->-r ../requirements.txt (line 3)) (2.0.12)\n",
      "Requirement already satisfied: urllib3<1.27,>=1.21.1 in /home/gitpod/.pyenv/versions/3.8.13/lib/python3.8/site-packages (from requests==2.27.1->-r ../requirements.txt (line 3)) (1.26.11)\n",
      "Requirement already satisfied: certifi>=2017.4.17 in /home/gitpod/.pyenv/versions/3.8.13/lib/python3.8/site-packages (from requests==2.27.1->-r ../requirements.txt (line 3)) (2022.6.15)\n",
      "Requirement already satisfied: packaging>=20.0 in /home/gitpod/.pyenv/versions/3.8.13/lib/python3.8/site-packages (from matplotlib>=3.2.2->-r ../requirements.txt (line 5)) (21.3)\n",
      "Requirement already satisfied: pyparsing>=2.2.1 in /home/gitpod/.pyenv/versions/3.8.13/lib/python3.8/site-packages (from matplotlib>=3.2.2->-r ../requirements.txt (line 5)) (3.0.9)\n",
      "Requirement already satisfied: cycler>=0.10 in /home/gitpod/.pyenv/versions/3.8.13/lib/python3.8/site-packages (from matplotlib>=3.2.2->-r ../requirements.txt (line 5)) (0.11.0)\n",
      "Requirement already satisfied: pillow>=6.2.0 in /home/gitpod/.pyenv/versions/3.8.13/lib/python3.8/site-packages (from matplotlib>=3.2.2->-r ../requirements.txt (line 5)) (9.2.0)\n",
      "Requirement already satisfied: fonttools>=4.22.0 in /home/gitpod/.pyenv/versions/3.8.13/lib/python3.8/site-packages (from matplotlib>=3.2.2->-r ../requirements.txt (line 5)) (4.34.4)\n",
      "Requirement already satisfied: kiwisolver>=1.0.1 in /home/gitpod/.pyenv/versions/3.8.13/lib/python3.8/site-packages (from matplotlib>=3.2.2->-r ../requirements.txt (line 5)) (1.4.4)\n",
      "Requirement already satisfied: scikit-learn in /home/gitpod/.pyenv/versions/3.8.13/lib/python3.8/site-packages (from sklearn->-r ../requirements.txt (line 6)) (1.1.2)\n",
      "Requirement already satisfied: scipy>=1.0 in /home/gitpod/.pyenv/versions/3.8.13/lib/python3.8/site-packages (from seaborn->-r ../requirements.txt (line 7)) (1.9.0)\n",
      "Requirement already satisfied: six>=1.5 in /home/gitpod/.pyenv/versions/3.8.13/lib/python3.8/site-packages (from python-dateutil>=2.8.1->pandas==1.4.2->-r ../requirements.txt (line 1)) (1.16.0)\n",
      "Requirement already satisfied: threadpoolctl>=2.0.0 in /home/gitpod/.pyenv/versions/3.8.13/lib/python3.8/site-packages (from scikit-learn->sklearn->-r ../requirements.txt (line 6)) (3.1.0)\n",
      "Requirement already satisfied: joblib>=1.0.0 in /home/gitpod/.pyenv/versions/3.8.13/lib/python3.8/site-packages (from scikit-learn->sklearn->-r ../requirements.txt (line 6)) (1.1.0)\n"
     ]
    }
   ],
   "source": [
    "!pip install --upgrade pip\n",
    "!pip install -r ../requirements.txt"
   ]
  },
  {
   "cell_type": "code",
   "execution_count": 2,
   "metadata": {},
   "outputs": [],
   "source": [
    "import pandas as pd\n",
    "import numpy as np\n",
    "import matplotlib.pyplot as plt\n",
    "import seaborn as sns\n",
    "from sklearn.impute import SimpleImputer\n",
    "from sklearn.metrics import confusion_matrix"
   ]
  },
  {
   "cell_type": "code",
   "execution_count": 3,
   "metadata": {},
   "outputs": [],
   "source": [
    "# Fuente: https://www.kaggle.com/datasets/adityaramachandran27/nasa-near-earth-objects-information"
   ]
  },
  {
   "cell_type": "code",
   "execution_count": 4,
   "metadata": {},
   "outputs": [],
   "source": [
    "df_raw = pd.read_csv('../data/2/NASA Near-Earth Objects.csv')"
   ]
  },
  {
   "cell_type": "markdown",
   "metadata": {},
   "source": [
    "### Objetivos de estudio\n",
    "\n",
    "- Analizar el dataset, buscar correlaciones entre variables y transformar datos\n",
    "- Evaluar como solucionar la problematica de que el dataset es desbalanceado en la columna target de interes\n",
    "- Aplicar algoritmos de clasificacion para determinar si un NEO tiene peligro potencial de impacto\n",
    "- Aplicar tecnicas de optimizacion de la performance del algoritmo"
   ]
  },
  {
   "cell_type": "markdown",
   "metadata": {},
   "source": [
    "### Diccionario de datos:\n",
    "\n",
    "- Unnamed: 0: Default index\n",
    "\n",
    "- id: A unique ID given by NASA\n",
    "\n",
    "- neo_reference_id: A unique ID given by NASA to all NEO, same as the ID\n",
    "\n",
    "- name: Official name given by NASA\n",
    "\n",
    "- name_limited: Normal name without the scientific notations\n",
    "\n",
    "- designation: The number used in the official name given by NASA\n",
    "\n",
    "- absolute_magnitude_h: Absolute magnitude (M) is a measure of the luminosity of a celestial object, on an inverse logarithmic astronomical\n",
    "\n",
    "- is_potentially_hazardous_asteroid: Boolean value which tells if the object poses a threat to earth or not\n",
    "\n",
    "- is_sentry_object: Boolean value which tells if the object is present in the sentry tracking system or not (Sentry: https://en.wikipedia.org/wiki/Sentry_(monitoring_system))\n",
    "\n",
    "- kilometers_estimated_diameter_min: Minimum estimated diameter in kilometer\n",
    "\n",
    "- kilometers_estimated_diameter_max: Maximum estimated diameter in kilometer\n",
    "\n",
    "- orbit_id: A unique ID for the orbit of the object\n",
    "\n",
    "- orbit_class_type: Classification of the object orbit into classes\n",
    "\n",
    "    - (AMO is referring to Amor asteroids: near-Earth asteroids. The orbital perihelion of these objects is close to, but greater than, the orbital aphelion of Earth (a > 1.0 AU and 1.017 AU < q < 1.3 AU).\n",
    "\n",
    "    - APO is referring to Apollo asteroids: near-Earth asteroid orbits which cross the Earth's orbit (a > 1.0 AU and q < 1.017 AU).)\n",
    "\n",
    "    - (Abajo hay mas info sobre el tema, incluyendo las orbitas de tipo ATE e IEO)\n",
    "\n",
    "- perihelion_distance: Has the perihelion distance (the point nearest to the Earth in the path of an orbiting celestial body)\n",
    "\n",
    "- aphelion_distance: Has the aphelion distance (the point in the orbit of a planet, asteroid, or object at which it is furthest from the Earth)\n",
    "\n",
    "- first_observation_date: Date when the object was first observed\n",
    "\n",
    "- last_observation_date: Date when the object was last observed\n",
    "\n",
    "- orbit_class_description: The description of the orbit"
   ]
  },
  {
   "cell_type": "markdown",
   "metadata": {},
   "source": [
    "Asteroids are dynamically classified as \"Near-Earth\" if their perihelion distance is less than 1.3 AU. They are further divided into groups based on their semi-major axis (a), perihelion distance (q), and aphelion distance (Q).\n",
    "\n",
    "- Apollos (APO) cross Earth's orbit and have a semi-major axis of more than 1 AU\n",
    "- Amors (AMO) have orbits strictly outside Earth's orbit\n",
    "- Atens (ATE) cross Earth's orbit and have a semi-major axis of less than 1 AU\n",
    "- Atiras (IEO) have orbits strictly inside Earth's orbit\n",
    "\n",
    "(Fuente: https://www.comet-toolbox.com/neos.html)"
   ]
  },
  {
   "cell_type": "code",
   "execution_count": 5,
   "metadata": {},
   "outputs": [
    {
     "name": "stdout",
     "output_type": "stream",
     "text": [
      "<class 'pandas.core.frame.DataFrame'>\n",
      "RangeIndex: 24000 entries, 0 to 23999\n",
      "Data columns (total 18 columns):\n",
      " #   Column                             Non-Null Count  Dtype  \n",
      "---  ------                             --------------  -----  \n",
      " 0   Unnamed: 0                         24000 non-null  int64  \n",
      " 1   id                                 24000 non-null  int64  \n",
      " 2   neo_reference_id                   24000 non-null  int64  \n",
      " 3   name                               24000 non-null  object \n",
      " 4   name_limited                       144 non-null    object \n",
      " 5   designation                        24000 non-null  object \n",
      " 6   absolute_magnitude_h               23992 non-null  float64\n",
      " 7   is_potentially_hazardous_asteroid  24000 non-null  bool   \n",
      " 8   is_sentry_object                   24000 non-null  bool   \n",
      " 9   kilometers_estimated_diameter_min  23992 non-null  float64\n",
      " 10  kilometers_estimated_diameter_max  23992 non-null  float64\n",
      " 11  orbit_id                           24000 non-null  object \n",
      " 12  orbit_class_type                   24000 non-null  object \n",
      " 13  perihelion_distance                24000 non-null  float64\n",
      " 14  aphelion_distance                  24000 non-null  float64\n",
      " 15  first_observation_date             24000 non-null  object \n",
      " 16  last_observation_date              24000 non-null  object \n",
      " 17  orbit_class_description            24000 non-null  object \n",
      "dtypes: bool(2), float64(5), int64(3), object(8)\n",
      "memory usage: 3.0+ MB\n"
     ]
    }
   ],
   "source": [
    "# Aqui leemos la informacion general de los datos, vemos la dimension total, la cantidad de datos no nulos y el tipo de dato por columna\n",
    "\n",
    "df_raw.info()"
   ]
  },
  {
   "cell_type": "markdown",
   "metadata": {},
   "source": [
    "Observar que hay datos faltantes en columnas como 'absolute_magnitude_h ' y 'name_limited'. En el segundo caso es porque NASA no le asigna nombres propios a todos los cuerpos"
   ]
  },
  {
   "cell_type": "code",
   "execution_count": 6,
   "metadata": {},
   "outputs": [],
   "source": [
    "# Se elimina la columna 'Unnamed: 0' ya que son los indices de las filas, y al importar los datos, pandas ya me los define\n",
    " \n",
    "df_raw.drop(columns = ['Unnamed: 0'], inplace = True)"
   ]
  },
  {
   "cell_type": "code",
   "execution_count": 7,
   "metadata": {},
   "outputs": [
    {
     "data": {
      "text/html": [
       "<div>\n",
       "<style scoped>\n",
       "    .dataframe tbody tr th:only-of-type {\n",
       "        vertical-align: middle;\n",
       "    }\n",
       "\n",
       "    .dataframe tbody tr th {\n",
       "        vertical-align: top;\n",
       "    }\n",
       "\n",
       "    .dataframe thead th {\n",
       "        text-align: right;\n",
       "    }\n",
       "</style>\n",
       "<table border=\"1\" class=\"dataframe\">\n",
       "  <thead>\n",
       "    <tr style=\"text-align: right;\">\n",
       "      <th></th>\n",
       "      <th>id</th>\n",
       "      <th>neo_reference_id</th>\n",
       "      <th>absolute_magnitude_h</th>\n",
       "      <th>kilometers_estimated_diameter_min</th>\n",
       "      <th>kilometers_estimated_diameter_max</th>\n",
       "      <th>perihelion_distance</th>\n",
       "      <th>aphelion_distance</th>\n",
       "    </tr>\n",
       "  </thead>\n",
       "  <tbody>\n",
       "    <tr>\n",
       "      <th>count</th>\n",
       "      <td>2.400000e+04</td>\n",
       "      <td>2.400000e+04</td>\n",
       "      <td>23992.000000</td>\n",
       "      <td>23992.000000</td>\n",
       "      <td>23992.000000</td>\n",
       "      <td>24000.000000</td>\n",
       "      <td>24000.000000</td>\n",
       "    </tr>\n",
       "    <tr>\n",
       "      <th>mean</th>\n",
       "      <td>7.275111e+06</td>\n",
       "      <td>7.275111e+06</td>\n",
       "      <td>22.942274</td>\n",
       "      <td>0.167777</td>\n",
       "      <td>0.375160</td>\n",
       "      <td>0.915225</td>\n",
       "      <td>2.653104</td>\n",
       "    </tr>\n",
       "    <tr>\n",
       "      <th>std</th>\n",
       "      <td>1.333987e+07</td>\n",
       "      <td>1.333987e+07</td>\n",
       "      <td>2.952871</td>\n",
       "      <td>0.293000</td>\n",
       "      <td>0.655169</td>\n",
       "      <td>0.232201</td>\n",
       "      <td>4.468233</td>\n",
       "    </tr>\n",
       "    <tr>\n",
       "      <th>min</th>\n",
       "      <td>2.001981e+06</td>\n",
       "      <td>2.001981e+06</td>\n",
       "      <td>12.580000</td>\n",
       "      <td>0.000609</td>\n",
       "      <td>0.001362</td>\n",
       "      <td>0.070431</td>\n",
       "      <td>0.653754</td>\n",
       "    </tr>\n",
       "    <tr>\n",
       "      <th>25%</th>\n",
       "      <td>3.409962e+06</td>\n",
       "      <td>3.409962e+06</td>\n",
       "      <td>20.650000</td>\n",
       "      <td>0.024241</td>\n",
       "      <td>0.054205</td>\n",
       "      <td>0.785150</td>\n",
       "      <td>1.706281</td>\n",
       "    </tr>\n",
       "    <tr>\n",
       "      <th>50%</th>\n",
       "      <td>3.703790e+06</td>\n",
       "      <td>3.703790e+06</td>\n",
       "      <td>23.200000</td>\n",
       "      <td>0.060891</td>\n",
       "      <td>0.136157</td>\n",
       "      <td>0.965325</td>\n",
       "      <td>2.480109</td>\n",
       "    </tr>\n",
       "    <tr>\n",
       "      <th>75%</th>\n",
       "      <td>3.803897e+06</td>\n",
       "      <td>3.803897e+06</td>\n",
       "      <td>25.200000</td>\n",
       "      <td>0.197040</td>\n",
       "      <td>0.440595</td>\n",
       "      <td>1.068984</td>\n",
       "      <td>3.397965</td>\n",
       "    </tr>\n",
       "    <tr>\n",
       "      <th>max</th>\n",
       "      <td>5.408749e+07</td>\n",
       "      <td>5.408749e+07</td>\n",
       "      <td>33.200000</td>\n",
       "      <td>8.101305</td>\n",
       "      <td>18.115068</td>\n",
       "      <td>1.299988</td>\n",
       "      <td>631.895456</td>\n",
       "    </tr>\n",
       "  </tbody>\n",
       "</table>\n",
       "</div>"
      ],
      "text/plain": [
       "                 id  neo_reference_id  absolute_magnitude_h  \\\n",
       "count  2.400000e+04      2.400000e+04          23992.000000   \n",
       "mean   7.275111e+06      7.275111e+06             22.942274   \n",
       "std    1.333987e+07      1.333987e+07              2.952871   \n",
       "min    2.001981e+06      2.001981e+06             12.580000   \n",
       "25%    3.409962e+06      3.409962e+06             20.650000   \n",
       "50%    3.703790e+06      3.703790e+06             23.200000   \n",
       "75%    3.803897e+06      3.803897e+06             25.200000   \n",
       "max    5.408749e+07      5.408749e+07             33.200000   \n",
       "\n",
       "       kilometers_estimated_diameter_min  kilometers_estimated_diameter_max  \\\n",
       "count                       23992.000000                       23992.000000   \n",
       "mean                            0.167777                           0.375160   \n",
       "std                             0.293000                           0.655169   \n",
       "min                             0.000609                           0.001362   \n",
       "25%                             0.024241                           0.054205   \n",
       "50%                             0.060891                           0.136157   \n",
       "75%                             0.197040                           0.440595   \n",
       "max                             8.101305                          18.115068   \n",
       "\n",
       "       perihelion_distance  aphelion_distance  \n",
       "count         24000.000000       24000.000000  \n",
       "mean              0.915225           2.653104  \n",
       "std               0.232201           4.468233  \n",
       "min               0.070431           0.653754  \n",
       "25%               0.785150           1.706281  \n",
       "50%               0.965325           2.480109  \n",
       "75%               1.068984           3.397965  \n",
       "max               1.299988         631.895456  "
      ]
     },
     "execution_count": 7,
     "metadata": {},
     "output_type": "execute_result"
    }
   ],
   "source": [
    "# Descripicion de variables numericas\n",
    "\n",
    "df_raw.describe()"
   ]
  },
  {
   "cell_type": "code",
   "execution_count": 8,
   "metadata": {},
   "outputs": [
    {
     "data": {
      "text/html": [
       "<div>\n",
       "<style scoped>\n",
       "    .dataframe tbody tr th:only-of-type {\n",
       "        vertical-align: middle;\n",
       "    }\n",
       "\n",
       "    .dataframe tbody tr th {\n",
       "        vertical-align: top;\n",
       "    }\n",
       "\n",
       "    .dataframe thead th {\n",
       "        text-align: right;\n",
       "    }\n",
       "</style>\n",
       "<table border=\"1\" class=\"dataframe\">\n",
       "  <thead>\n",
       "    <tr style=\"text-align: right;\">\n",
       "      <th></th>\n",
       "      <th>name</th>\n",
       "      <th>name_limited</th>\n",
       "      <th>designation</th>\n",
       "      <th>is_potentially_hazardous_asteroid</th>\n",
       "      <th>is_sentry_object</th>\n",
       "      <th>orbit_id</th>\n",
       "      <th>orbit_class_type</th>\n",
       "      <th>first_observation_date</th>\n",
       "      <th>last_observation_date</th>\n",
       "      <th>orbit_class_description</th>\n",
       "    </tr>\n",
       "  </thead>\n",
       "  <tbody>\n",
       "    <tr>\n",
       "      <th>count</th>\n",
       "      <td>24000</td>\n",
       "      <td>144</td>\n",
       "      <td>24000</td>\n",
       "      <td>24000</td>\n",
       "      <td>24000</td>\n",
       "      <td>24000</td>\n",
       "      <td>24000</td>\n",
       "      <td>24000</td>\n",
       "      <td>24000</td>\n",
       "      <td>24000</td>\n",
       "    </tr>\n",
       "    <tr>\n",
       "      <th>unique</th>\n",
       "      <td>24000</td>\n",
       "      <td>144</td>\n",
       "      <td>24000</td>\n",
       "      <td>2</td>\n",
       "      <td>2</td>\n",
       "      <td>352</td>\n",
       "      <td>4</td>\n",
       "      <td>5964</td>\n",
       "      <td>5016</td>\n",
       "      <td>4</td>\n",
       "    </tr>\n",
       "    <tr>\n",
       "      <th>top</th>\n",
       "      <td>1981 Midas (1973 EA)</td>\n",
       "      <td>Midas</td>\n",
       "      <td>1981</td>\n",
       "      <td>False</td>\n",
       "      <td>False</td>\n",
       "      <td>7</td>\n",
       "      <td>APO</td>\n",
       "      <td>2014-04-23</td>\n",
       "      <td>2022-04-15</td>\n",
       "      <td>Near-Earth asteroid orbits which cross the Ear...</td>\n",
       "    </tr>\n",
       "    <tr>\n",
       "      <th>freq</th>\n",
       "      <td>1</td>\n",
       "      <td>1</td>\n",
       "      <td>1</td>\n",
       "      <td>21906</td>\n",
       "      <td>22934</td>\n",
       "      <td>1485</td>\n",
       "      <td>13245</td>\n",
       "      <td>67</td>\n",
       "      <td>40</td>\n",
       "      <td>13245</td>\n",
       "    </tr>\n",
       "  </tbody>\n",
       "</table>\n",
       "</div>"
      ],
      "text/plain": [
       "                        name name_limited designation  \\\n",
       "count                  24000          144       24000   \n",
       "unique                 24000          144       24000   \n",
       "top     1981 Midas (1973 EA)        Midas        1981   \n",
       "freq                       1            1           1   \n",
       "\n",
       "       is_potentially_hazardous_asteroid is_sentry_object orbit_id  \\\n",
       "count                              24000            24000    24000   \n",
       "unique                                 2                2      352   \n",
       "top                                False            False        7   \n",
       "freq                               21906            22934     1485   \n",
       "\n",
       "       orbit_class_type first_observation_date last_observation_date  \\\n",
       "count             24000                  24000                 24000   \n",
       "unique                4                   5964                  5016   \n",
       "top                 APO             2014-04-23            2022-04-15   \n",
       "freq              13245                     67                    40   \n",
       "\n",
       "                                  orbit_class_description  \n",
       "count                                               24000  \n",
       "unique                                                  4  \n",
       "top     Near-Earth asteroid orbits which cross the Ear...  \n",
       "freq                                                13245  "
      ]
     },
     "execution_count": 8,
     "metadata": {},
     "output_type": "execute_result"
    }
   ],
   "source": [
    "# Descripicion de variables categoricas (object, bool, en este caso)\n",
    "\n",
    "df_raw.describe(include = ['object','bool'])"
   ]
  },
  {
   "cell_type": "markdown",
   "metadata": {},
   "source": [
    "Podemos ver que la asignacion de nombres por parte de la NASA es unica, ya que en las columnas 'name', 'name_limited' y 'designation' tenemos todos valores unicos. Vamos a chequear tambien en la columna 'id' si se cumple"
   ]
  },
  {
   "cell_type": "code",
   "execution_count": 9,
   "metadata": {},
   "outputs": [
    {
     "data": {
      "text/plain": [
       "False"
      ]
     },
     "execution_count": 9,
     "metadata": {},
     "output_type": "execute_result"
    }
   ],
   "source": [
    "df_raw['id'].duplicated().any()"
   ]
  },
  {
   "cell_type": "code",
   "execution_count": 10,
   "metadata": {},
   "outputs": [
    {
     "data": {
      "text/html": [
       "<div>\n",
       "<style scoped>\n",
       "    .dataframe tbody tr th:only-of-type {\n",
       "        vertical-align: middle;\n",
       "    }\n",
       "\n",
       "    .dataframe tbody tr th {\n",
       "        vertical-align: top;\n",
       "    }\n",
       "\n",
       "    .dataframe thead th {\n",
       "        text-align: right;\n",
       "    }\n",
       "</style>\n",
       "<table border=\"1\" class=\"dataframe\">\n",
       "  <thead>\n",
       "    <tr style=\"text-align: right;\">\n",
       "      <th></th>\n",
       "      <th>id</th>\n",
       "      <th>neo_reference_id</th>\n",
       "      <th>name</th>\n",
       "      <th>name_limited</th>\n",
       "      <th>designation</th>\n",
       "      <th>absolute_magnitude_h</th>\n",
       "      <th>is_potentially_hazardous_asteroid</th>\n",
       "      <th>is_sentry_object</th>\n",
       "      <th>kilometers_estimated_diameter_min</th>\n",
       "      <th>kilometers_estimated_diameter_max</th>\n",
       "      <th>orbit_id</th>\n",
       "      <th>orbit_class_type</th>\n",
       "      <th>perihelion_distance</th>\n",
       "      <th>aphelion_distance</th>\n",
       "      <th>first_observation_date</th>\n",
       "      <th>last_observation_date</th>\n",
       "      <th>orbit_class_description</th>\n",
       "    </tr>\n",
       "  </thead>\n",
       "  <tbody>\n",
       "    <tr>\n",
       "      <th>23026</th>\n",
       "      <td>54017626</td>\n",
       "      <td>54017626</td>\n",
       "      <td>(2020 MT2)</td>\n",
       "      <td>NaN</td>\n",
       "      <td>2020 MT2</td>\n",
       "      <td>24.0</td>\n",
       "      <td>False</td>\n",
       "      <td>False</td>\n",
       "      <td>0.042126</td>\n",
       "      <td>0.094198</td>\n",
       "      <td>9</td>\n",
       "      <td>AMO</td>\n",
       "      <td>1.052910</td>\n",
       "      <td>1.724193</td>\n",
       "      <td>2020-05-30</td>\n",
       "      <td>2020-07-12</td>\n",
       "      <td>Near-Earth asteroid orbits similar to that of ...</td>\n",
       "    </tr>\n",
       "    <tr>\n",
       "      <th>5269</th>\n",
       "      <td>3367720</td>\n",
       "      <td>3367720</td>\n",
       "      <td>(2007 CR5)</td>\n",
       "      <td>NaN</td>\n",
       "      <td>2007 CR5</td>\n",
       "      <td>25.4</td>\n",
       "      <td>False</td>\n",
       "      <td>False</td>\n",
       "      <td>0.022108</td>\n",
       "      <td>0.049436</td>\n",
       "      <td>9</td>\n",
       "      <td>APO</td>\n",
       "      <td>0.898089</td>\n",
       "      <td>2.338562</td>\n",
       "      <td>2007-02-08</td>\n",
       "      <td>2007-02-15</td>\n",
       "      <td>Near-Earth asteroid orbits which cross the Ear...</td>\n",
       "    </tr>\n",
       "    <tr>\n",
       "      <th>10536</th>\n",
       "      <td>3655548</td>\n",
       "      <td>3655548</td>\n",
       "      <td>(2013 YA38)</td>\n",
       "      <td>NaN</td>\n",
       "      <td>2013 YA38</td>\n",
       "      <td>21.0</td>\n",
       "      <td>False</td>\n",
       "      <td>False</td>\n",
       "      <td>0.167708</td>\n",
       "      <td>0.375008</td>\n",
       "      <td>15</td>\n",
       "      <td>APO</td>\n",
       "      <td>0.747198</td>\n",
       "      <td>4.242264</td>\n",
       "      <td>2013-12-27</td>\n",
       "      <td>2021-07-07</td>\n",
       "      <td>Near-Earth asteroid orbits which cross the Ear...</td>\n",
       "    </tr>\n",
       "    <tr>\n",
       "      <th>18353</th>\n",
       "      <td>3825579</td>\n",
       "      <td>3825579</td>\n",
       "      <td>(2018 NO1)</td>\n",
       "      <td>NaN</td>\n",
       "      <td>2018 NO1</td>\n",
       "      <td>22.2</td>\n",
       "      <td>False</td>\n",
       "      <td>False</td>\n",
       "      <td>0.096506</td>\n",
       "      <td>0.215794</td>\n",
       "      <td>19</td>\n",
       "      <td>AMO</td>\n",
       "      <td>1.237100</td>\n",
       "      <td>4.688517</td>\n",
       "      <td>2018-07-08</td>\n",
       "      <td>2018-09-20</td>\n",
       "      <td>Near-Earth asteroid orbits similar to that of ...</td>\n",
       "    </tr>\n",
       "    <tr>\n",
       "      <th>19422</th>\n",
       "      <td>3837853</td>\n",
       "      <td>3837853</td>\n",
       "      <td>(2019 AH11)</td>\n",
       "      <td>NaN</td>\n",
       "      <td>2019 AH11</td>\n",
       "      <td>18.9</td>\n",
       "      <td>False</td>\n",
       "      <td>False</td>\n",
       "      <td>0.441118</td>\n",
       "      <td>0.986370</td>\n",
       "      <td>17</td>\n",
       "      <td>AMO</td>\n",
       "      <td>1.203913</td>\n",
       "      <td>4.043749</td>\n",
       "      <td>2019-01-11</td>\n",
       "      <td>2019-08-28</td>\n",
       "      <td>Near-Earth asteroid orbits similar to that of ...</td>\n",
       "    </tr>\n",
       "  </tbody>\n",
       "</table>\n",
       "</div>"
      ],
      "text/plain": [
       "             id  neo_reference_id         name name_limited designation  \\\n",
       "23026  54017626          54017626   (2020 MT2)          NaN    2020 MT2   \n",
       "5269    3367720           3367720   (2007 CR5)          NaN    2007 CR5   \n",
       "10536   3655548           3655548  (2013 YA38)          NaN   2013 YA38   \n",
       "18353   3825579           3825579   (2018 NO1)          NaN    2018 NO1   \n",
       "19422   3837853           3837853  (2019 AH11)          NaN   2019 AH11   \n",
       "\n",
       "       absolute_magnitude_h  is_potentially_hazardous_asteroid  \\\n",
       "23026                  24.0                              False   \n",
       "5269                   25.4                              False   \n",
       "10536                  21.0                              False   \n",
       "18353                  22.2                              False   \n",
       "19422                  18.9                              False   \n",
       "\n",
       "       is_sentry_object  kilometers_estimated_diameter_min  \\\n",
       "23026             False                           0.042126   \n",
       "5269              False                           0.022108   \n",
       "10536             False                           0.167708   \n",
       "18353             False                           0.096506   \n",
       "19422             False                           0.441118   \n",
       "\n",
       "       kilometers_estimated_diameter_max orbit_id orbit_class_type  \\\n",
       "23026                           0.094198        9              AMO   \n",
       "5269                            0.049436        9              APO   \n",
       "10536                           0.375008       15              APO   \n",
       "18353                           0.215794       19              AMO   \n",
       "19422                           0.986370       17              AMO   \n",
       "\n",
       "       perihelion_distance  aphelion_distance first_observation_date  \\\n",
       "23026             1.052910           1.724193             2020-05-30   \n",
       "5269              0.898089           2.338562             2007-02-08   \n",
       "10536             0.747198           4.242264             2013-12-27   \n",
       "18353             1.237100           4.688517             2018-07-08   \n",
       "19422             1.203913           4.043749             2019-01-11   \n",
       "\n",
       "      last_observation_date                            orbit_class_description  \n",
       "23026            2020-07-12  Near-Earth asteroid orbits similar to that of ...  \n",
       "5269             2007-02-15  Near-Earth asteroid orbits which cross the Ear...  \n",
       "10536            2021-07-07  Near-Earth asteroid orbits which cross the Ear...  \n",
       "18353            2018-09-20  Near-Earth asteroid orbits similar to that of ...  \n",
       "19422            2019-08-28  Near-Earth asteroid orbits similar to that of ...  "
      ]
     },
     "execution_count": 10,
     "metadata": {},
     "output_type": "execute_result"
    }
   ],
   "source": [
    "# Muestra de los datos\n",
    "\n",
    "df_raw.sample(5)"
   ]
  },
  {
   "cell_type": "markdown",
   "metadata": {},
   "source": [
    "#### Primeras observaciones\n",
    "\n",
    "- Las columnas 'id' y 'neo_reference_id' son identicas, asi que nos podemos quedar solo con una de ellas\n",
    "- La columna 'name_limited' es simplemente la extraccion del nombre propio del cuerpo (si es que lo tiene), dato que ya esta en la columna 'name', por lo que no nos presenta informacion relevante, mas alla de sacar la proporcion de cuerpos a los que la NASA le ha asignado un valor propio. \n",
    "- Algo similar sucede con la columna 'designation', la cual tambien es una parte del nombre oficial establecido, y el dato completo del nombre esta en la columna 'name'"
   ]
  },
  {
   "cell_type": "code",
   "execution_count": 11,
   "metadata": {},
   "outputs": [],
   "source": [
    "df_raw.drop(columns = ['neo_reference_id', 'name_limited', 'designation'], inplace = True)"
   ]
  },
  {
   "cell_type": "code",
   "execution_count": 18,
   "metadata": {},
   "outputs": [
    {
     "data": {
      "image/png": "[encoded data removed]",
      "text/plain": [
       "<Figure size 432x288 with 1 Axes>"
      ]
     },
     "metadata": {
      "needs_background": "light"
     },
     "output_type": "display_data"
    }
   ],
   "source": [
    "# is_potentially_hazardous_asteroid\n",
    "ax = sns.countplot(x = df_raw['is_potentially_hazardous_asteroid'])\n",
    "ax.bar_label(ax.containers[0])\n",
    "plt.title('Proporcion True/False en la columna is_potentially_hazardous_asteroid')\n",
    "plt.show()"
   ]
  },
  {
   "cell_type": "code",
   "execution_count": 19,
   "metadata": {},
   "outputs": [
    {
     "data": {
      "image/png": "[encoded data removed]",
      "text/plain": [
       "<Figure size 432x288 with 1 Axes>"
      ]
     },
     "metadata": {
      "needs_background": "light"
     },
     "output_type": "display_data"
    }
   ],
   "source": [
    "# is_sentry_object\n",
    "ax = sns.countplot(x = df_raw['is_sentry_object'])\n",
    "ax.bar_label(ax.containers[0])\n",
    "plt.title('Proporcion True/False en la columna is_sentry_object')\n",
    "plt.show()"
   ]
  },
  {
   "cell_type": "code",
   "execution_count": 20,
   "metadata": {},
   "outputs": [
    {
     "data": {
      "image/png": "[encoded data removed]",
      "text/plain": [
       "<Figure size 432x288 with 1 Axes>"
      ]
     },
     "metadata": {
      "needs_background": "light"
     },
     "output_type": "display_data"
    }
   ],
   "source": [
    "ax = sns.countplot(x = df_raw['orbit_class_type'])\n",
    "ax.bar_label(ax.containers[0])\n",
    "plt.title('Proporciones en la columna orbit_class_type')\n",
    "plt.show()"
   ]
  },
  {
   "cell_type": "code",
   "execution_count": 48,
   "metadata": {},
   "outputs": [
    {
     "data": {
      "image/png": "[encoded data removed]",
      "text/plain": [
       "<Figure size 432x288 with 1 Axes>"
      ]
     },
     "metadata": {
      "needs_background": "light"
     },
     "output_type": "display_data"
    }
   ],
   "source": [
    "# absolute_magnitude_h\n",
    "\n",
    "df_raw['absolute_magnitude_h'].hist(bins = 20)\n",
    "plt.show()"
   ]
  },
  {
   "cell_type": "code",
   "execution_count": 26,
   "metadata": {},
   "outputs": [
    {
     "data": {
      "image/png": "[encoded data removed]",
      "text/plain": [
       "<Figure size 432x288 with 1 Axes>"
      ]
     },
     "metadata": {
      "needs_background": "light"
     },
     "output_type": "display_data"
    }
   ],
   "source": [
    "# kilometers_estimated_diameter_min\n",
    "\n",
    "df_raw['kilometers_estimated_diameter_min'].hist(bins=50)\n",
    "plt.show()\n",
    "\n",
    "# El mayor valor registrado es 8.1013048824"
   ]
  },
  {
   "cell_type": "code",
   "execution_count": 47,
   "metadata": {},
   "outputs": [
    {
     "data": {
      "image/png": "[encoded data removed]",
      "text/plain": [
       "<Figure size 432x288 with 1 Axes>"
      ]
     },
     "metadata": {
      "needs_background": "light"
     },
     "output_type": "display_data"
    }
   ],
   "source": [
    "df_raw[df_raw['kilometers_estimated_diameter_min'] < 2]['kilometers_estimated_diameter_min'].hist(bins=20)\n",
    "plt.show()\n"
   ]
  },
  {
   "cell_type": "code",
   "execution_count": 28,
   "metadata": {},
   "outputs": [
    {
     "data": {
      "image/png": "[encoded data removed]",
      "text/plain": [
       "<Figure size 432x288 with 1 Axes>"
      ]
     },
     "metadata": {
      "needs_background": "light"
     },
     "output_type": "display_data"
    }
   ],
   "source": [
    "# kilometers_estimated_diameter_max\n",
    "\n",
    "df_raw['kilometers_estimated_diameter_max'].hist(bins=50)\n",
    "plt.show()\n",
    "\n",
    "# El mayor valor registrado es "
   ]
  },
  {
   "cell_type": "code",
   "execution_count": 46,
   "metadata": {},
   "outputs": [
    {
     "data": {
      "image/png": "[encoded data removed]",
      "text/plain": [
       "<Figure size 432x288 with 1 Axes>"
      ]
     },
     "metadata": {
      "needs_background": "light"
     },
     "output_type": "display_data"
    }
   ],
   "source": [
    "df_raw[df_raw['kilometers_estimated_diameter_max'] < 2]['kilometers_estimated_diameter_max'].hist(bins=20)\n",
    "plt.show()\n"
   ]
  },
  {
   "cell_type": "code",
   "execution_count": 33,
   "metadata": {},
   "outputs": [
    {
     "data": {
      "image/png": "[encoded data removed]",
      "text/plain": [
       "<Figure size 432x288 with 1 Axes>"
      ]
     },
     "metadata": {
      "needs_background": "light"
     },
     "output_type": "display_data"
    }
   ],
   "source": [
    "# perihelion_distance\n",
    "\n",
    "df_raw['perihelion_distance'].hist(bins=20)\n",
    "plt.show()"
   ]
  },
  {
   "cell_type": "code",
   "execution_count": 34,
   "metadata": {},
   "outputs": [
    {
     "data": {
      "image/png": "[encoded data removed]",
      "text/plain": [
       "<Figure size 432x288 with 1 Axes>"
      ]
     },
     "metadata": {
      "needs_background": "light"
     },
     "output_type": "display_data"
    }
   ],
   "source": [
    "# aphelion_distance\n",
    "\n",
    "df_raw['aphelion_distance'].hist(bins=20)\n",
    "plt.show()\n",
    "\n",
    "# El vmayor valor registrado es 631.8954563363584"
   ]
  },
  {
   "cell_type": "code",
   "execution_count": 41,
   "metadata": {},
   "outputs": [
    {
     "data": {
      "image/png": "[encoded data removed]",
      "text/plain": [
       "<Figure size 432x288 with 1 Axes>"
      ]
     },
     "metadata": {
      "needs_background": "light"
     },
     "output_type": "display_data"
    }
   ],
   "source": [
    "df_raw[df_raw['aphelion_distance'] < 10]['aphelion_distance'].hist(bins=20)\n",
    "plt.show()\n"
   ]
  },
  {
   "cell_type": "markdown",
   "metadata": {},
   "source": [
    "#### Transformacion de datos\n",
    "\n",
    "- Vamos a convertir a datatime dtype a las columnas 'first_observation_date' y 'last_observation_date'\n",
    "- Las columnas 'is_potentially_hazardous_asteroid' y 'is_sentry_object' se encodean en 0 y 1\n",
    "- La columna 'orbit_class_type' puede encodearse en 0, 1, 2 y 3 por tener 4 categorias diferentes\n",
    "- La columnas 'orbit_id' podrian pasarse a tipo numerico, verificarlo\n",
    "- Hay columnas que tienen datos faltantes, analizar situacion"
   ]
  },
  {
   "cell_type": "code",
   "execution_count": null,
   "metadata": {},
   "outputs": [],
   "source": [
    "# Hay un valor en la columna 'first_observation_date' que vale '2008-??-??', por lo cual\n",
    "# no es posible convertirlo a datetime tipo de dato. Entonces procedemos a borrar ese registro"
   ]
  },
  {
   "cell_type": "code",
   "execution_count": 78,
   "metadata": {},
   "outputs": [],
   "source": [
    "df_raw = df_raw.drop(df_raw[df_raw['first_observation_date'] == '2008-??-??'].index[0])"
   ]
  },
  {
   "cell_type": "code",
   "execution_count": 59,
   "metadata": {},
   "outputs": [],
   "source": [
    "# Transformando a datetime tipo de dato\n",
    "\n",
    "df_raw['first_observation_date'] = pd.to_datetime(df_raw['first_observation_date'])\n",
    "df_raw['last_observation_date'] = pd.to_datetime(df_raw['last_observation_date'])"
   ]
  },
  {
   "cell_type": "code",
   "execution_count": 84,
   "metadata": {},
   "outputs": [],
   "source": [
    "# Transformacion a 0 y 1 de las columnas 'is_potentially_hazardous_asteroid' y 'is_sentry_object'\n",
    "\n",
    "df_raw['is_potentially_hazardous_asteroid'] = pd.Categorical(df_raw['is_potentially_hazardous_asteroid'])\n",
    "df_raw['is_potentially_hazardous_asteroid'] = df_raw['is_potentially_hazardous_asteroid'].cat.codes\n",
    "\n",
    "df_raw['is_sentry_object'] = pd.Categorical(df_raw['is_sentry_object'])\n",
    "df_raw['is_sentry_object'] = df_raw['is_sentry_object'].cat.codes"
   ]
  },
  {
   "cell_type": "code",
   "execution_count": 87,
   "metadata": {},
   "outputs": [],
   "source": [
    "# Transformando las categorias de 'orbit_class_type' a 0, 1, 2 y 3\n",
    "\n",
    "df_raw['orbit_class_type'] = pd.Categorical(df_raw['orbit_class_type'])\n",
    "df_raw['orbit_class_type'] = df_raw['orbit_class_type'].cat.codes"
   ]
  },
  {
   "cell_type": "code",
   "execution_count": 102,
   "metadata": {},
   "outputs": [
    {
     "data": {
      "text/plain": [
       "11911     5\n",
       "20220     2\n",
       "1040     54\n",
       "17800     2\n",
       "8284     16\n",
       "4930     10\n",
       "20693    10\n",
       "5576      9\n",
       "572      33\n",
       "20674    18\n",
       "Name: orbit_id, dtype: object"
      ]
     },
     "execution_count": 102,
     "metadata": {},
     "output_type": "execute_result"
    }
   ],
   "source": [
    "# Verificando valores de la columna 'orbit_id'\n",
    "\n",
    "df_raw['orbit_id'].sample(10)"
   ]
  },
  {
   "cell_type": "code",
   "execution_count": 104,
   "metadata": {},
   "outputs": [],
   "source": [
    "# df_raw['orbit_id'] = pd.to_numeric(df_raw['orbit_id']) - Unable to parse string \"E2021-CI3\" at position 10055\n",
    "\n",
    "# Hay un valor que no es del todo numerico, analizarlo"
   ]
  },
  {
   "cell_type": "code",
   "execution_count": 108,
   "metadata": {},
   "outputs": [],
   "source": [
    "df_raw[df_raw['orbit_id'] == 'E2021-CI3']\n",
    "\n",
    "# Solo hay un valor con este id de orbita, se procede a eliminarse\n",
    "\n",
    "df_raw = df_raw.drop(df_raw[df_raw['orbit_id'] == 'E2021-CI3'].index[0])"
   ]
  },
  {
   "cell_type": "code",
   "execution_count": 112,
   "metadata": {},
   "outputs": [],
   "source": [
    "# df_raw['orbit_id'] = pd.to_numeric(df_raw['orbit_id']) - Unable to parse string \"MPO392510\" at position 14812"
   ]
  },
  {
   "cell_type": "code",
   "execution_count": 111,
   "metadata": {},
   "outputs": [],
   "source": [
    "df_raw[df_raw['orbit_id'] == 'MPO392510']\n",
    "\n",
    "# Solo hay un valor con este id de orbita, se procede a eliminarse\n",
    "\n",
    "df_raw = df_raw.drop(df_raw[df_raw['orbit_id'] == 'MPO392510'].index[0])"
   ]
  },
  {
   "cell_type": "code",
   "execution_count": 113,
   "metadata": {},
   "outputs": [],
   "source": [
    "df_raw['orbit_id'] = pd.to_numeric(df_raw['orbit_id'])\n",
    "\n",
    "# Ahora si funciono, solo eran esos dos valores que contenian letras"
   ]
  },
  {
   "cell_type": "code",
   "execution_count": 117,
   "metadata": {},
   "outputs": [],
   "source": [
    "# Terminar de transformar a cateorica las columnas 'name' y 'orbit_class_description'\n",
    "\n",
    "df_raw['name'] = pd.Categorical(df_raw['name'])\n",
    "df_raw['orbit_class_description'] = pd.Categorical(df_raw['orbit_class_description'])"
   ]
  },
  {
   "cell_type": "code",
   "execution_count": 118,
   "metadata": {},
   "outputs": [
    {
     "name": "stdout",
     "output_type": "stream",
     "text": [
      "<class 'pandas.core.frame.DataFrame'>\n",
      "Int64Index: 23997 entries, 0 to 23999\n",
      "Data columns (total 14 columns):\n",
      " #   Column                             Non-Null Count  Dtype         \n",
      "---  ------                             --------------  -----         \n",
      " 0   id                                 23997 non-null  int64         \n",
      " 1   name                               23997 non-null  category      \n",
      " 2   absolute_magnitude_h               23989 non-null  float64       \n",
      " 3   is_potentially_hazardous_asteroid  23997 non-null  int8          \n",
      " 4   is_sentry_object                   23997 non-null  int8          \n",
      " 5   kilometers_estimated_diameter_min  23989 non-null  float64       \n",
      " 6   kilometers_estimated_diameter_max  23989 non-null  float64       \n",
      " 7   orbit_id                           23997 non-null  int64         \n",
      " 8   orbit_class_type                   23997 non-null  int8          \n",
      " 9   perihelion_distance                23997 non-null  float64       \n",
      " 10  aphelion_distance                  23997 non-null  float64       \n",
      " 11  first_observation_date             23997 non-null  datetime64[ns]\n",
      " 12  last_observation_date              23997 non-null  datetime64[ns]\n",
      " 13  orbit_class_description            23997 non-null  category      \n",
      "dtypes: category(2), datetime64[ns](2), float64(5), int64(2), int8(3)\n",
      "memory usage: 2.7 MB\n"
     ]
    }
   ],
   "source": [
    "df_raw.info()\n",
    "\n",
    "# Las columnas 'absolute_magnitude_h', 'kilometers_estimated_diameter_min' y 'kilometers_estimated_diameter_max' presentan valores faltantes\n",
    "# Se procede a llenarlos con las mediana de su columna correspondiente"
   ]
  },
  {
   "cell_type": "code",
   "execution_count": null,
   "metadata": {},
   "outputs": [],
   "source": []
  },
  {
   "cell_type": "code",
   "execution_count": null,
   "metadata": {},
   "outputs": [],
   "source": [
    "imputer_median1 = SimpleImputer(strategy='median', missing_values=np.nan)\n",
    "imputer_median1 = imputer_median1.fit(X_train[['Age']])\n",
    "X_train['Age'] = imputer_mean.transform(X_train[['Age']])"
   ]
  },
  {
   "cell_type": "code",
   "execution_count": null,
   "metadata": {},
   "outputs": [],
   "source": []
  },
  {
   "cell_type": "code",
   "execution_count": null,
   "metadata": {},
   "outputs": [],
   "source": []
  },
  {
   "cell_type": "code",
   "execution_count": null,
   "metadata": {},
   "outputs": [],
   "source": [
    "# df_wo_desc = df_drop(columns = ['orbit_class_description'])"
   ]
  },
  {
   "cell_type": "code",
   "execution_count": 13,
   "metadata": {},
   "outputs": [],
   "source": [
    "# Para el resampling, lo saque del code de decision tree\n",
    "\n",
    "# df_majority = df[(df[\"Outcome\"]==0)]\n",
    "# df_minority = df[(df[\"Outcome\"]==1)]\n",
    "# df_minority_upsampled = resample(df_minority,replace=True,n_samples=400,random_state=42)\n",
    "# df = pd.concat([df_minority_upsampled,df_majority])\n",
    "# df[\"Outcome\"].value_counts()"
   ]
  }
 ],
 "metadata": {
  "kernelspec": {
   "display_name": "Python 3.8.13 64-bit ('3.8.13')",
   "language": "python",
   "name": "python3"
  },
  "language_info": {
   "codemirror_mode": {
    "name": "ipython",
    "version": 3
   },
   "file_extension": ".py",
   "mimetype": "text/x-python",
   "name": "python",
   "nbconvert_exporter": "python",
   "pygments_lexer": "ipython3",
   "version": "3.8.13"
  },
  "orig_nbformat": 4,
  "vscode": {
   "interpreter": {
    "hash": "110cc1dee26208153f2972f08a2ad52b6a56238dc66d48e87fb757ef2996db56"
   }
  }
 },
 "nbformat": 4,
 "nbformat_minor": 2
}
